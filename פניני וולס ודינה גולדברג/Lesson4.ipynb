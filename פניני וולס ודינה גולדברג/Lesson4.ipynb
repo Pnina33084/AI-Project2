{
 "cells": [
  {
   "cell_type": "code",
   "execution_count": 70,
   "id": "bcbb35a5",
   "metadata": {},
   "outputs": [],
   "source": [
    "import matplotlib.pyplot as plt\n",
    "import numpy as np\n",
    "import pandas as pd\n",
    "import seaborn as sns\n",
    "\n",
    "from sklearn.linear_model import LogisticRegression\n",
    "from sklearn.preprocessing import OneHotEncoder\n",
    "from sklearn import linear_model, svm\n",
    "from sklearn.svm import SVC\n",
    "from sklearn.neighbors import KNeighborsClassifier\n",
    "from sklearn.model_selection import train_test_split\n",
    "from sklearn.metrics import confusion_matrix, classification_report, accuracy_score, precision_score, recall_score\n",
    "%matplotlib inline\n"
   ]
  },
  {
   "attachments": {},
   "cell_type": "markdown",
   "id": "d8653db6",
   "metadata": {},
   "source": [
    "# q.1"
   ]
  },
  {
   "attachments": {},
   "cell_type": "markdown",
   "id": "9e02d3db",
   "metadata": {},
   "source": [
    "# Logistic Regression"
   ]
  },
  {
   "cell_type": "code",
   "execution_count": 83,
   "id": "a6d16e9d",
   "metadata": {},
   "outputs": [
    {
     "name": "stdout",
     "output_type": "stream",
     "text": [
      "Number of incorrect predictions: 36\n",
      "Accuracy: 0.6326530612244898\n",
      "Precision: 0.0\n",
      "Recall: 0.0\n"
     ]
    },
    {
     "name": "stderr",
     "output_type": "stream",
     "text": [
      "C:\\ProgramData\\anaconda3\\lib\\site-packages\\sklearn\\metrics\\_classification.py:1344: UndefinedMetricWarning: Precision is ill-defined and being set to 0.0 due to no predicted samples. Use `zero_division` parameter to control this behavior.\n",
      "  _warn_prf(average, modifier, msg_start, len(result))\n"
     ]
    }
   ],
   "source": [
    "df=pd.read_excel('phone_purchase.xlsx')\n",
    "df = pd.get_dummies(df, columns=['Gender'], drop_first=True)\n",
    "X=df[['Gender_Male','Age','Salary']]\n",
    "y=df['PurchasePhone']\n",
    "\n",
    "X_train, X_test, y_train, y_test = train_test_split(X, y, test_size=0.25, random_state=42)\n",
    "model_lr = LogisticRegression()\n",
    "model_lr.fit(X_train, y_train)\n",
    "\n",
    "y_pred = model_lr.predict(X_test)\n",
    "\n",
    "incorrect_predictions = (y_test != y_pred).sum()\n",
    "print(f'Number of incorrect predictions: {incorrect_predictions}')\n",
    "\n",
    "accuracy = accuracy_score(y_test, y_pred)\n",
    "print(f'Accuracy: {accuracy}')\n",
    "\n",
    "precision=precision_score(y_test,y_pred)\n",
    "print(f'Precision: {precision}')\n",
    "\n",
    "recall = recall_score(y_test, y_pred)\n",
    "print(f'Recall: {recall}')"
   ]
  },
  {
   "attachments": {},
   "cell_type": "markdown",
   "id": "c88e3ec6",
   "metadata": {},
   "source": [
    "# SVM"
   ]
  },
  {
   "cell_type": "code",
   "execution_count": 86,
   "id": "d7f8f093",
   "metadata": {},
   "outputs": [
    {
     "name": "stdout",
     "output_type": "stream",
     "text": [
      "Number of incorrect predictions: 16\n",
      "Accuracy: 0.8367346938775511\n",
      "Precision: 0.8571428571428571\n",
      "Recall: 0.6666666666666666\n"
     ]
    }
   ],
   "source": [
    "svm_model = SVC(kernel='linear')\n",
    "svm_model.fit(X_train, y_train)\n",
    "y_pred = svm_model.predict(X_test)\n",
    "\n",
    "incorrect_predictions = (y_test != y_pred).sum()\n",
    "print(f'Number of incorrect predictions: {incorrect_predictions}')\n",
    "\n",
    "accuracy = accuracy_score(y_test, y_pred)\n",
    "print(f'Accuracy: {accuracy}')\n",
    "\n",
    "precision=precision_score(y_test,y_pred)\n",
    "print(f'Precision: {precision}')\n",
    "\n",
    "recall = recall_score(y_test, y_pred)\n",
    "print(f'Recall: {recall}')"
   ]
  },
  {
   "attachments": {},
   "cell_type": "markdown",
   "id": "d554176d",
   "metadata": {},
   "source": [
    "# KNN"
   ]
  },
  {
   "cell_type": "code",
   "execution_count": 87,
   "id": "965e579c",
   "metadata": {},
   "outputs": [
    {
     "name": "stdout",
     "output_type": "stream",
     "text": [
      "Number of incorrect predictions: 16\n",
      "Accuracy: 0.8367346938775511\n",
      "Precision: 0.8846153846153846\n",
      "Recall: 0.6388888888888888\n"
     ]
    }
   ],
   "source": [
    "knn_model = KNeighborsClassifier(n_neighbors=5)\n",
    "knn_model.fit(X_train, y_train)\n",
    "y_pred = knn_model.predict(X_test)\n",
    "\n",
    "incorrect_predictions = (y_test != y_pred).sum()\n",
    "print(f'Number of incorrect predictions: {incorrect_predictions}')\n",
    "\n",
    "accuracy = accuracy_score(y_test, y_pred)\n",
    "print(f'Accuracy: {accuracy}')\n",
    "\n",
    "precision=precision_score(y_test,y_pred)\n",
    "print(f'Precision: {precision}')\n",
    "\n",
    "recall = recall_score(y_test, y_pred)\n",
    "print(f'Recall: {recall}')"
   ]
  },
  {
   "attachments": {},
   "cell_type": "markdown",
   "id": "d0ba159e",
   "metadata": {},
   "source": [
    "# q.2"
   ]
  },
  {
   "cell_type": "code",
   "execution_count": 93,
   "id": "ba753d5b",
   "metadata": {},
   "outputs": [
    {
     "name": "stdout",
     "output_type": "stream",
     "text": [
      "Row 1 - Logistic Regression Prediction: [0]\n",
      "Row 1 - SVM Prediction: [1]\n",
      "Row 1 - KNN Prediction: [0]\n",
      "\n",
      "\n",
      "Row 2 - Logistic Regression Prediction: [0]\n",
      "Row 2 - SVM Prediction: [1]\n",
      "Row 2 - KNN Prediction: [0]\n",
      "\n",
      "\n",
      "Row 3 - Logistic Regression Prediction: [0]\n",
      "Row 3 - SVM Prediction: [1]\n",
      "Row 3 - KNN Prediction: [0]\n",
      "\n",
      "\n",
      "Row 4 - Logistic Regression Prediction: [0]\n",
      "Row 4 - SVM Prediction: [1]\n",
      "Row 4 - KNN Prediction: [0]\n",
      "\n",
      "\n",
      "Row 5 - Logistic Regression Prediction: [0]\n",
      "Row 5 - SVM Prediction: [1]\n",
      "Row 5 - KNN Prediction: [0]\n",
      "\n",
      "\n",
      "Row 6 - Logistic Regression Prediction: [0]\n",
      "Row 6 - SVM Prediction: [1]\n",
      "Row 6 - KNN Prediction: [0]\n",
      "\n",
      "\n",
      "Row 7 - Logistic Regression Prediction: [0]\n",
      "Row 7 - SVM Prediction: [1]\n",
      "Row 7 - KNN Prediction: [0]\n",
      "\n",
      "\n",
      "Row 8 - Logistic Regression Prediction: [0]\n",
      "Row 8 - SVM Prediction: [1]\n",
      "Row 8 - KNN Prediction: [0]\n",
      "\n",
      "\n",
      "Row 9 - Logistic Regression Prediction: [0]\n",
      "Row 9 - SVM Prediction: [1]\n",
      "Row 9 - KNN Prediction: [0]\n",
      "\n",
      "\n",
      "Row 10 - Logistic Regression Prediction: [0]\n",
      "Row 10 - SVM Prediction: [1]\n",
      "Row 10 - KNN Prediction: [0]\n",
      "\n",
      "\n"
     ]
    },
    {
     "name": "stderr",
     "output_type": "stream",
     "text": [
      "C:\\ProgramData\\anaconda3\\lib\\site-packages\\sklearn\\base.py:420: UserWarning: X does not have valid feature names, but LogisticRegression was fitted with feature names\n",
      "  warnings.warn(\n",
      "C:\\ProgramData\\anaconda3\\lib\\site-packages\\sklearn\\base.py:420: UserWarning: X does not have valid feature names, but SVC was fitted with feature names\n",
      "  warnings.warn(\n",
      "C:\\ProgramData\\anaconda3\\lib\\site-packages\\sklearn\\base.py:420: UserWarning: X does not have valid feature names, but KNeighborsClassifier was fitted with feature names\n",
      "  warnings.warn(\n",
      "C:\\ProgramData\\anaconda3\\lib\\site-packages\\sklearn\\base.py:420: UserWarning: X does not have valid feature names, but LogisticRegression was fitted with feature names\n",
      "  warnings.warn(\n",
      "C:\\ProgramData\\anaconda3\\lib\\site-packages\\sklearn\\base.py:420: UserWarning: X does not have valid feature names, but SVC was fitted with feature names\n",
      "  warnings.warn(\n",
      "C:\\ProgramData\\anaconda3\\lib\\site-packages\\sklearn\\base.py:420: UserWarning: X does not have valid feature names, but KNeighborsClassifier was fitted with feature names\n",
      "  warnings.warn(\n",
      "C:\\ProgramData\\anaconda3\\lib\\site-packages\\sklearn\\base.py:420: UserWarning: X does not have valid feature names, but LogisticRegression was fitted with feature names\n",
      "  warnings.warn(\n",
      "C:\\ProgramData\\anaconda3\\lib\\site-packages\\sklearn\\base.py:420: UserWarning: X does not have valid feature names, but SVC was fitted with feature names\n",
      "  warnings.warn(\n",
      "C:\\ProgramData\\anaconda3\\lib\\site-packages\\sklearn\\base.py:420: UserWarning: X does not have valid feature names, but KNeighborsClassifier was fitted with feature names\n",
      "  warnings.warn(\n",
      "C:\\ProgramData\\anaconda3\\lib\\site-packages\\sklearn\\base.py:420: UserWarning: X does not have valid feature names, but LogisticRegression was fitted with feature names\n",
      "  warnings.warn(\n",
      "C:\\ProgramData\\anaconda3\\lib\\site-packages\\sklearn\\base.py:420: UserWarning: X does not have valid feature names, but SVC was fitted with feature names\n",
      "  warnings.warn(\n",
      "C:\\ProgramData\\anaconda3\\lib\\site-packages\\sklearn\\base.py:420: UserWarning: X does not have valid feature names, but KNeighborsClassifier was fitted with feature names\n",
      "  warnings.warn(\n",
      "C:\\ProgramData\\anaconda3\\lib\\site-packages\\sklearn\\base.py:420: UserWarning: X does not have valid feature names, but LogisticRegression was fitted with feature names\n",
      "  warnings.warn(\n",
      "C:\\ProgramData\\anaconda3\\lib\\site-packages\\sklearn\\base.py:420: UserWarning: X does not have valid feature names, but SVC was fitted with feature names\n",
      "  warnings.warn(\n",
      "C:\\ProgramData\\anaconda3\\lib\\site-packages\\sklearn\\base.py:420: UserWarning: X does not have valid feature names, but KNeighborsClassifier was fitted with feature names\n",
      "  warnings.warn(\n",
      "C:\\ProgramData\\anaconda3\\lib\\site-packages\\sklearn\\base.py:420: UserWarning: X does not have valid feature names, but LogisticRegression was fitted with feature names\n",
      "  warnings.warn(\n",
      "C:\\ProgramData\\anaconda3\\lib\\site-packages\\sklearn\\base.py:420: UserWarning: X does not have valid feature names, but SVC was fitted with feature names\n",
      "  warnings.warn(\n",
      "C:\\ProgramData\\anaconda3\\lib\\site-packages\\sklearn\\base.py:420: UserWarning: X does not have valid feature names, but KNeighborsClassifier was fitted with feature names\n",
      "  warnings.warn(\n",
      "C:\\ProgramData\\anaconda3\\lib\\site-packages\\sklearn\\base.py:420: UserWarning: X does not have valid feature names, but LogisticRegression was fitted with feature names\n",
      "  warnings.warn(\n",
      "C:\\ProgramData\\anaconda3\\lib\\site-packages\\sklearn\\base.py:420: UserWarning: X does not have valid feature names, but SVC was fitted with feature names\n",
      "  warnings.warn(\n",
      "C:\\ProgramData\\anaconda3\\lib\\site-packages\\sklearn\\base.py:420: UserWarning: X does not have valid feature names, but KNeighborsClassifier was fitted with feature names\n",
      "  warnings.warn(\n",
      "C:\\ProgramData\\anaconda3\\lib\\site-packages\\sklearn\\base.py:420: UserWarning: X does not have valid feature names, but LogisticRegression was fitted with feature names\n",
      "  warnings.warn(\n",
      "C:\\ProgramData\\anaconda3\\lib\\site-packages\\sklearn\\base.py:420: UserWarning: X does not have valid feature names, but SVC was fitted with feature names\n",
      "  warnings.warn(\n",
      "C:\\ProgramData\\anaconda3\\lib\\site-packages\\sklearn\\base.py:420: UserWarning: X does not have valid feature names, but KNeighborsClassifier was fitted with feature names\n",
      "  warnings.warn(\n",
      "C:\\ProgramData\\anaconda3\\lib\\site-packages\\sklearn\\base.py:420: UserWarning: X does not have valid feature names, but LogisticRegression was fitted with feature names\n",
      "  warnings.warn(\n",
      "C:\\ProgramData\\anaconda3\\lib\\site-packages\\sklearn\\base.py:420: UserWarning: X does not have valid feature names, but SVC was fitted with feature names\n",
      "  warnings.warn(\n",
      "C:\\ProgramData\\anaconda3\\lib\\site-packages\\sklearn\\base.py:420: UserWarning: X does not have valid feature names, but KNeighborsClassifier was fitted with feature names\n",
      "  warnings.warn(\n",
      "C:\\ProgramData\\anaconda3\\lib\\site-packages\\sklearn\\base.py:420: UserWarning: X does not have valid feature names, but LogisticRegression was fitted with feature names\n",
      "  warnings.warn(\n",
      "C:\\ProgramData\\anaconda3\\lib\\site-packages\\sklearn\\base.py:420: UserWarning: X does not have valid feature names, but SVC was fitted with feature names\n",
      "  warnings.warn(\n",
      "C:\\ProgramData\\anaconda3\\lib\\site-packages\\sklearn\\base.py:420: UserWarning: X does not have valid feature names, but KNeighborsClassifier was fitted with feature names\n",
      "  warnings.warn(\n"
     ]
    }
   ],
   "source": [
    "dfd=pd.read_excel('dataToPredict.xlsx')\n",
    "dfd = pd.get_dummies(dfd, columns=['Gender'], drop_first=True)\n",
    "dfd\n",
    "for index, row in dfd.iterrows():\n",
    "    lr_prediction = model_lr.predict(row.values.reshape(1, -1))  \n",
    "    svm_prediction = svm_model.predict(row.values.reshape(1, -1))  \n",
    "    knn_prediction = knn_model.predict(row.values.reshape(1, -1)) \n",
    "\n",
    "    print(f\"Row {index+1} - Logistic Regression Prediction: {lr_prediction}\")\n",
    "    print(f\"Row {index+1} - SVM Prediction: {svm_prediction}\")\n",
    "    print(f\"Row {index+1} - KNN Prediction: {knn_prediction}\")\n",
    "    print(\"\\n\")"
   ]
  },
  {
   "cell_type": "code",
   "execution_count": null,
   "id": "e9289813",
   "metadata": {},
   "outputs": [],
   "source": []
  }
 ],
 "metadata": {
  "kernelspec": {
   "display_name": "Python 3 (ipykernel)",
   "language": "python",
   "name": "python3"
  },
  "language_info": {
   "codemirror_mode": {
    "name": "ipython",
    "version": 3
   },
   "file_extension": ".py",
   "mimetype": "text/x-python",
   "name": "python",
   "nbconvert_exporter": "python",
   "pygments_lexer": "ipython3",
   "version": "3.10.9"
  }
 },
 "nbformat": 4,
 "nbformat_minor": 5
}
